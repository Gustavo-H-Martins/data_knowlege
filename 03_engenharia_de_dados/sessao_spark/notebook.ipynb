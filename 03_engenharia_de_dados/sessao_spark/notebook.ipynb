{
 "cells": [
  {
   "cell_type": "code",
   "execution_count": 1,
   "metadata": {},
   "outputs": [
    {
     "ename": "ModuleNotFoundError",
     "evalue": "No module named 'pyspark'",
     "output_type": "error",
     "traceback": [
      "\u001b[1;31m---------------------------------------------------------------------------\u001b[0m",
      "\u001b[1;31mModuleNotFoundError\u001b[0m                       Traceback (most recent call last)",
      "\u001b[1;32mc:\\Users\\gusta\\OneDrive\\Documentos\\GitHub\\data_knowlege\\03_engenharia_de_dados\\sessao_spark\\notebook.ipynb Cell 1\u001b[0m line \u001b[0;36m3\n\u001b[0;32m      <a href='vscode-notebook-cell:/c%3A/Users/gusta/OneDrive/Documentos/GitHub/data_knowlege/03_engenharia_de_dados/sessao_spark/notebook.ipynb#W0sZmlsZQ%3D%3D?line=0'>1</a>\u001b[0m \u001b[39mimport\u001b[39;00m \u001b[39mos\u001b[39;00m\n\u001b[0;32m      <a href='vscode-notebook-cell:/c%3A/Users/gusta/OneDrive/Documentos/GitHub/data_knowlege/03_engenharia_de_dados/sessao_spark/notebook.ipynb#W0sZmlsZQ%3D%3D?line=1'>2</a>\u001b[0m \u001b[39mimport\u001b[39;00m \u001b[39msys\u001b[39;00m  \n\u001b[1;32m----> <a href='vscode-notebook-cell:/c%3A/Users/gusta/OneDrive/Documentos/GitHub/data_knowlege/03_engenharia_de_dados/sessao_spark/notebook.ipynb#W0sZmlsZQ%3D%3D?line=2'>3</a>\u001b[0m \u001b[39mfrom\u001b[39;00m \u001b[39mpyspark\u001b[39;00m\u001b[39m.\u001b[39;00m\u001b[39msql\u001b[39;00m \u001b[39mimport\u001b[39;00m SparkSession\n\u001b[0;32m      <a href='vscode-notebook-cell:/c%3A/Users/gusta/OneDrive/Documentos/GitHub/data_knowlege/03_engenharia_de_dados/sessao_spark/notebook.ipynb#W0sZmlsZQ%3D%3D?line=3'>4</a>\u001b[0m \u001b[39mfrom\u001b[39;00m \u001b[39mpyspark\u001b[39;00m\u001b[39m.\u001b[39;00m\u001b[39mcontext\u001b[39;00m \u001b[39mimport\u001b[39;00m  SparkContext\n\u001b[0;32m      <a href='vscode-notebook-cell:/c%3A/Users/gusta/OneDrive/Documentos/GitHub/data_knowlege/03_engenharia_de_dados/sessao_spark/notebook.ipynb#W0sZmlsZQ%3D%3D?line=4'>5</a>\u001b[0m \u001b[39mfrom\u001b[39;00m \u001b[39mpyspark\u001b[39;00m\u001b[39m.\u001b[39;00m\u001b[39msql\u001b[39;00m\u001b[39m.\u001b[39;00m\u001b[39mtypes\u001b[39;00m \u001b[39mimport\u001b[39;00m StructType, StructField, StringType, IntegerType, DoubleType\n",
      "\u001b[1;31mModuleNotFoundError\u001b[0m: No module named 'pyspark'"
     ]
    }
   ],
   "source": [
    "import os\n",
    "import sys  \n",
    "from pyspark.sql import SparkSession\n",
    "from pyspark.context import  SparkContext\n",
    "from pyspark.sql.types import StructType, StructField, StringType, IntegerType, DoubleType"
   ]
  },
  {
   "cell_type": "code",
   "execution_count": null,
   "metadata": {},
   "outputs": [],
   "source": [
    "import random\n",
    "\n",
    "def criar_listas(qtd_itens):\n",
    "    nomes = []\n",
    "    idades = []\n",
    "    salarios = []\n",
    "    profissoes = []\n",
    "    cidades = []\n",
    "    estados = []\n",
    "\n",
    "    for i in range(qtd_itens):\n",
    "        nomes.append(f\"Nome{i}\")\n",
    "        idades.append(random.randint(18, 60))\n",
    "        salarios.append(random.uniform(1000, 5000))\n",
    "        profissoes.append(f\"Profissão{i}\")\n",
    "        cidades.append(f\"Cidade{i}\")\n",
    "        estados.append(f\"Estado{i}\")\n",
    "    dicionario = {\n",
    "    \"nomes\" : nomes, \n",
    "    \"idades\" : idades, \n",
    "    \"salarios\" :salarios, \n",
    "    \"profissoes\" : profissoes, \n",
    "    \"cidades\" : cidades, \n",
    "    \"estados\" : estados\n",
    "    }\n",
    "    \n",
    "    return dicionario\n",
    "\n",
    "# Exemplo de uso\n",
    "qtd_itens = 1000\n",
    "dicionario = {}\n",
    "dicionario = criar_listas(qtd_itens)\n",
    "\n",
    "dicionario"
   ]
  },
  {
   "cell_type": "code",
   "execution_count": null,
   "metadata": {},
   "outputs": [],
   "source": [
    "\n",
    "# Instanciar as dependências jars\n",
    "jars = [\"spark-sql-kafka-0-10_2.12-3.1.2.jar\", \"spark-avro_2.12-3.1.2.jar\", \"delta-core_2.12-1.0.0.jar\"] \n",
    "# Retornar o build\n",
    "spark = SparkSession.builder.appName('teste_local').master('local[*]').config(\"spark.executor.memory\", \"4g\") .config(\"spark.executor.cores\", \"2\").config(\"spark.cores.max\", \"4\").config(\"spark.jars\", \",\".join(jars)).getOrCreate()"
   ]
  },
  {
   "cell_type": "code",
   "execution_count": null,
   "metadata": {},
   "outputs": [],
   "source": [
    "spark.sparkContext\n",
    "\n",
    "# Defina o esquema do DataFrame\n",
    "schema = StructType([\n",
    "    StructField(\"nome\", StringType(), nullable=False),\n",
    "    StructField(\"idade\", IntegerType(), nullable=False),\n",
    "    StructField(\"salario\", DoubleType(), nullable=False),\n",
    "    StructField(\"profissao\", StringType(), nullable=False),\n",
    "    StructField(\"cidade\", StringType(), nullable=False),\n",
    "    StructField(\"estado\", StringType(), nullable=False)\n",
    "])\n",
    "\n",
    "\n",
    "# Crie um RDD a partir do dicionário\n",
    "rdd = spark.sparkContext.parallelize(list(dicionario.values())).transpose()\n",
    "\n",
    "print(rdd.first())\n",
    "# Converta o RDD em DataFrame\n",
    "#df = rdd.toDF(list(dicionario.keys()))"
   ]
  }
 ],
 "metadata": {
  "kernelspec": {
   "display_name": "Python 3",
   "language": "python",
   "name": "python3"
  },
  "language_info": {
   "codemirror_mode": {
    "name": "ipython",
    "version": 3
   },
   "file_extension": ".py",
   "mimetype": "text/x-python",
   "name": "python",
   "nbconvert_exporter": "python",
   "pygments_lexer": "ipython3",
   "version": "3.11.6"
  }
 },
 "nbformat": 4,
 "nbformat_minor": 2
}
