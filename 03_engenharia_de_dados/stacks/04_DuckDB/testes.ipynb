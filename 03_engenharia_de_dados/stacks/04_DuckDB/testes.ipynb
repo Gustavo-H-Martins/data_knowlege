{
 "cells": [
  {
   "cell_type": "markdown",
   "metadata": {},
   "source": [
    "<img src=\"https://duckdb.org/images/DuckDB-Footer.svg\" alt=\"DuckDB\" width=\"200\"/>\n",
    "\n",
    "# <h1 align='center'>[DuckDB](https://duckdb.org/)</h1>"
   ]
  },
  {
   "cell_type": "markdown",
   "metadata": {},
   "source": [
    "### Instalação"
   ]
  },
  {
   "cell_type": "code",
   "execution_count": 1,
   "metadata": {},
   "outputs": [
    {
     "name": "stdout",
     "output_type": "stream",
     "text": [
      "Collecting duckdb==0.9.2"
     ]
    },
    {
     "name": "stderr",
     "output_type": "stream",
     "text": [
      "\n",
      "[notice] A new release of pip is available: 23.1.1 -> 23.3.1\n",
      "[notice] To update, run: python.exe -m pip install --upgrade pip\n"
     ]
    },
    {
     "name": "stdout",
     "output_type": "stream",
     "text": [
      "\n",
      "  Downloading duckdb-0.9.2-cp311-cp311-win_amd64.whl (10.3 MB)\n",
      "                                              0.0/10.3 MB ? eta -:--:--\n",
      "     -                                        0.4/10.3 MB 7.6 MB/s eta 0:00:02\n",
      "     -----                                    1.3/10.3 MB 13.8 MB/s eta 0:00:01\n",
      "     ----------                               2.7/10.3 MB 19.5 MB/s eta 0:00:01\n",
      "     ----------------                         4.3/10.3 MB 23.2 MB/s eta 0:00:01\n",
      "     -----------------------                  6.1/10.3 MB 26.0 MB/s eta 0:00:01\n",
      "     ------------------------------           7.8/10.3 MB 26.2 MB/s eta 0:00:01\n",
      "     -----------------------------------      9.2/10.3 MB 27.9 MB/s eta 0:00:01\n",
      "     --------------------------------------  10.3/10.3 MB 28.5 MB/s eta 0:00:01\n",
      "     --------------------------------------  10.3/10.3 MB 28.5 MB/s eta 0:00:01\n",
      "     --------------------------------------  10.3/10.3 MB 28.5 MB/s eta 0:00:01\n",
      "     --------------------------------------  10.3/10.3 MB 28.5 MB/s eta 0:00:01\n",
      "     --------------------------------------  10.3/10.3 MB 28.5 MB/s eta 0:00:01\n",
      "     --------------------------------------  10.3/10.3 MB 28.5 MB/s eta 0:00:01\n",
      "     --------------------------------------  10.3/10.3 MB 28.5 MB/s eta 0:00:01\n",
      "     --------------------------------------- 10.3/10.3 MB 14.5 MB/s eta 0:00:00\n",
      "Installing collected packages: duckdb\n",
      "Successfully installed duckdb-0.9.2\n"
     ]
    }
   ],
   "source": [
    "### Instalação\n",
    "!pip install duckdb==0.9.2"
   ]
  },
  {
   "cell_type": "markdown",
   "metadata": {},
   "source": [
    "### Importando bibliotecas úteis"
   ]
  },
  {
   "cell_type": "code",
   "execution_count": 2,
   "metadata": {},
   "outputs": [],
   "source": [
    "### Libs\n",
    "import duckdb"
   ]
  },
  {
   "cell_type": "markdown",
   "metadata": {},
   "source": [
    "### Processando os dados com `CSV`"
   ]
  },
  {
   "cell_type": "markdown",
   "metadata": {},
   "source": [
    "- Lendo um arquivo `CSV`\n",
    "    A função `duckdb.sql` será usada para executar a consulta SQL especificada dentro das aspas duplas. \n",
    "    A consulta seleciona todos os dados do arquivo __CSV__ (\"campeonato-brasileiro-cartoes.csv\") usando a função `read_csv_auto` e, em seguida, o método `show()` é chamado para exibir o resultado da consulta."
   ]
  },
  {
   "cell_type": "code",
   "execution_count": 4,
   "metadata": {},
   "outputs": [
    {
     "name": "stdout",
     "output_type": "stream",
     "text": [
      "┌────────────┬────────┬───────────────┬──────────┬─────────────────────────────────┬────────────┬────────────┬─────────┐\n",
      "│ partida_id │ rodata │     clube     │  cartao  │             atleta              │ num_camisa │  posicao   │ minuto  │\n",
      "│   int64    │ int64  │    varchar    │ varchar  │             varchar             │   int64    │  varchar   │ varchar │\n",
      "├────────────┼────────┼───────────────┼──────────┼─────────────────────────────────┼────────────┼────────────┼─────────┤\n",
      "│       4607 │      1 │ Figueirense   │ Amarelo  │ Paulo Roberto da Silva          │         28 │ NULL       │ 66      │\n",
      "│       4608 │      1 │ Internacional │ Amarelo  │ Andrés D'Alessandro             │         10 │ Meio-campo │ 72      │\n",
      "│       4608 │      1 │ Vitoria       │ Amarelo  │ Marcelo Machado dos Santos      │         29 │ NULL       │ 86      │\n",
      "│       4608 │      1 │ Vitoria       │ Amarelo  │ Mansur                          │       NULL │ Zagueiro   │ 10      │\n",
      "│       4607 │      1 │ Figueirense   │ Amarelo  │ Thiago Heleno                   │          4 │ Zagueiro   │ 44      │\n",
      "│       4608 │      1 │ Internacional │ Amarelo  │ Juan Silveira dos Santos        │          4 │ Zagueiro   │ 20      │\n",
      "│       4608 │      1 │ Vitoria       │ Amarelo  │ Vinícius Santos Silva           │       NULL │ NULL       │ 82      │\n",
      "│       4609 │      1 │ Coritiba      │ Amarelo  │ Carlos Emiliano Pereira         │         30 │ Zagueiro   │ 76      │\n",
      "│       4615 │      1 │ Sport         │ Amarelo  │ Luiz Antonio Linhares Garcia    │         13 │ Zagueiro   │ 55      │\n",
      "│       4616 │      1 │ Criciuma      │ Amarelo  │ Silvinho                        │       NULL │ Atacante   │ 72      │\n",
      "│         ·  │      · │  ·            │    ·     │    ·                            │          · │    ·       │ ·       │\n",
      "│         ·  │      · │  ·            │    ·     │    ·                            │          · │    ·       │ ·       │\n",
      "│         ·  │      · │  ·            │    ·     │    ·                            │          · │    ·       │ ·       │\n",
      "│       6629 │     13 │ Avai          │ Amarelo  │ Igor Fernandes da Silva Araújo  │         23 │ Zagueiro   │ 66      │\n",
      "│       6630 │     13 │ Bahia         │ Amarelo  │ Eric dos Santos Rodrigues       │         10 │ Meio-campo │ 51      │\n",
      "│       6631 │     13 │ Corinthians   │ Amarelo  │ Carlos Gilberto do Nascimento…  │         26 │ Zagueiro   │ 44      │\n",
      "│       6631 │     13 │ Palmeiras     │ Amarelo  │ Diogo Barbosa                   │          6 │ Zagueiro   │ 40      │\n",
      "│       6632 │     13 │ Vasco         │ Amarelo  │ Leandro Castán                  │          5 │ Zagueiro   │ 90+13   │\n",
      "│       6632 │     13 │ Vasco         │ Amarelo  │ Marcos Antônio Candido Ferrei…  │         19 │ Meio-campo │ 90+6    │\n",
      "│       6632 │     13 │ CSA           │ Amarelo  │ João Vitor Lima Gomes           │          7 │ Meio-campo │ 45+1    │\n",
      "│       6633 │     13 │ Atletico-MG   │ Amarelo  │ Elias Mendes Trindade           │          7 │ Meio-campo │ 57      │\n",
      "│       6633 │     13 │ Cruzeiro      │ Amarelo  │ Thiago Neves                    │         10 │ Meio-campo │ 35      │\n",
      "│       6629 │     13 │ Avai          │ Vermelho │ André Moritz                    │         30 │ Meio-campo │ 81      │\n",
      "├────────────┴────────┴───────────────┴──────────┴─────────────────────────────────┴────────────┴────────────┴─────────┤\n",
      "│ ? rows (>9999 rows, 20 shown)                                                                              8 columns │\n",
      "└──────────────────────────────────────────────────────────────────────────────────────────────────────────────────────┘\n",
      "\n"
     ]
    }
   ],
   "source": [
    "duckdb.sql(\"SELECT * FROM read_csv_auto('./Campeonato Brasileiro de futebol/campeonato-brasileiro-cartoes.csv');\").show()"
   ]
  },
  {
   "cell_type": "markdown",
   "metadata": {},
   "source": [
    "A __classe__ `duckdb.connect()` cria um contexto de banco de dados, o __método__ conexao.execute() realiza a criação da tabela e depois realiza uma consulta _SQL_ nesta tabela salvando o resultado como um DataFrame"
   ]
  },
  {
   "cell_type": "code",
   "execution_count": 37,
   "metadata": {},
   "outputs": [
    {
     "data": {
      "text/html": [
       "<div>\n",
       "<style scoped>\n",
       "    .dataframe tbody tr th:only-of-type {\n",
       "        vertical-align: middle;\n",
       "    }\n",
       "\n",
       "    .dataframe tbody tr th {\n",
       "        vertical-align: top;\n",
       "    }\n",
       "\n",
       "    .dataframe thead th {\n",
       "        text-align: right;\n",
       "    }\n",
       "</style>\n",
       "<table border=\"1\" class=\"dataframe\">\n",
       "  <thead>\n",
       "    <tr style=\"text-align: right;\">\n",
       "      <th></th>\n",
       "      <th>partida_id</th>\n",
       "      <th>rodata</th>\n",
       "      <th>clube</th>\n",
       "      <th>cartao</th>\n",
       "      <th>atleta</th>\n",
       "      <th>num_camisa</th>\n",
       "      <th>posicao</th>\n",
       "      <th>minuto</th>\n",
       "    </tr>\n",
       "  </thead>\n",
       "  <tbody>\n",
       "    <tr>\n",
       "      <th>0</th>\n",
       "      <td>4607</td>\n",
       "      <td>1</td>\n",
       "      <td>Figueirense</td>\n",
       "      <td>Amarelo</td>\n",
       "      <td>Paulo Roberto da Silva</td>\n",
       "      <td>28.0</td>\n",
       "      <td>None</td>\n",
       "      <td>66</td>\n",
       "    </tr>\n",
       "    <tr>\n",
       "      <th>1</th>\n",
       "      <td>4608</td>\n",
       "      <td>1</td>\n",
       "      <td>Internacional</td>\n",
       "      <td>Amarelo</td>\n",
       "      <td>Andrés D'Alessandro</td>\n",
       "      <td>10.0</td>\n",
       "      <td>Meio-campo</td>\n",
       "      <td>72</td>\n",
       "    </tr>\n",
       "    <tr>\n",
       "      <th>2</th>\n",
       "      <td>4608</td>\n",
       "      <td>1</td>\n",
       "      <td>Vitoria</td>\n",
       "      <td>Amarelo</td>\n",
       "      <td>Marcelo Machado dos Santos</td>\n",
       "      <td>29.0</td>\n",
       "      <td>None</td>\n",
       "      <td>86</td>\n",
       "    </tr>\n",
       "    <tr>\n",
       "      <th>3</th>\n",
       "      <td>4608</td>\n",
       "      <td>1</td>\n",
       "      <td>Vitoria</td>\n",
       "      <td>Amarelo</td>\n",
       "      <td>Mansur</td>\n",
       "      <td>NaN</td>\n",
       "      <td>Zagueiro</td>\n",
       "      <td>10</td>\n",
       "    </tr>\n",
       "    <tr>\n",
       "      <th>4</th>\n",
       "      <td>4607</td>\n",
       "      <td>1</td>\n",
       "      <td>Figueirense</td>\n",
       "      <td>Amarelo</td>\n",
       "      <td>Thiago Heleno</td>\n",
       "      <td>4.0</td>\n",
       "      <td>Zagueiro</td>\n",
       "      <td>44</td>\n",
       "    </tr>\n",
       "    <tr>\n",
       "      <th>...</th>\n",
       "      <td>...</td>\n",
       "      <td>...</td>\n",
       "      <td>...</td>\n",
       "      <td>...</td>\n",
       "      <td>...</td>\n",
       "      <td>...</td>\n",
       "      <td>...</td>\n",
       "      <td>...</td>\n",
       "    </tr>\n",
       "    <tr>\n",
       "      <th>16734</th>\n",
       "      <td>8023</td>\n",
       "      <td>38</td>\n",
       "      <td>Atletico-MG</td>\n",
       "      <td>Amarelo</td>\n",
       "      <td>Jemerson de Jesus Nascimento</td>\n",
       "      <td>34.0</td>\n",
       "      <td>Zagueiro</td>\n",
       "      <td>45+2</td>\n",
       "    </tr>\n",
       "    <tr>\n",
       "      <th>16735</th>\n",
       "      <td>8024</td>\n",
       "      <td>38</td>\n",
       "      <td>Internacional</td>\n",
       "      <td>Amarelo</td>\n",
       "      <td>Lucas Ramos</td>\n",
       "      <td>37.0</td>\n",
       "      <td>Meio-campo</td>\n",
       "      <td>80</td>\n",
       "    </tr>\n",
       "    <tr>\n",
       "      <th>16736</th>\n",
       "      <td>8024</td>\n",
       "      <td>38</td>\n",
       "      <td>Palmeiras</td>\n",
       "      <td>Amarelo</td>\n",
       "      <td>José Manuel Alberto López</td>\n",
       "      <td>18.0</td>\n",
       "      <td>Meio-campo</td>\n",
       "      <td>88</td>\n",
       "    </tr>\n",
       "    <tr>\n",
       "      <th>16737</th>\n",
       "      <td>8024</td>\n",
       "      <td>38</td>\n",
       "      <td>Palmeiras</td>\n",
       "      <td>Amarelo</td>\n",
       "      <td>Eduard Atuesta</td>\n",
       "      <td>20.0</td>\n",
       "      <td>Meio-campo</td>\n",
       "      <td>23</td>\n",
       "    </tr>\n",
       "    <tr>\n",
       "      <th>16738</th>\n",
       "      <td>8025</td>\n",
       "      <td>38</td>\n",
       "      <td>Goias</td>\n",
       "      <td>Amarelo</td>\n",
       "      <td>Magno Jose da Silva</td>\n",
       "      <td>2.0</td>\n",
       "      <td>Zagueiro</td>\n",
       "      <td>40</td>\n",
       "    </tr>\n",
       "  </tbody>\n",
       "</table>\n",
       "<p>16739 rows × 8 columns</p>\n",
       "</div>"
      ],
      "text/plain": [
       "       partida_id  rodata          clube   cartao  \\\n",
       "0            4607       1    Figueirense  Amarelo   \n",
       "1            4608       1  Internacional  Amarelo   \n",
       "2            4608       1        Vitoria  Amarelo   \n",
       "3            4608       1        Vitoria  Amarelo   \n",
       "4            4607       1    Figueirense  Amarelo   \n",
       "...           ...     ...            ...      ...   \n",
       "16734        8023      38    Atletico-MG  Amarelo   \n",
       "16735        8024      38  Internacional  Amarelo   \n",
       "16736        8024      38      Palmeiras  Amarelo   \n",
       "16737        8024      38      Palmeiras  Amarelo   \n",
       "16738        8025      38          Goias  Amarelo   \n",
       "\n",
       "                             atleta  num_camisa     posicao minuto  \n",
       "0            Paulo Roberto da Silva        28.0        None     66  \n",
       "1               Andrés D'Alessandro        10.0  Meio-campo     72  \n",
       "2        Marcelo Machado dos Santos        29.0        None     86  \n",
       "3                            Mansur         NaN    Zagueiro     10  \n",
       "4                     Thiago Heleno         4.0    Zagueiro     44  \n",
       "...                             ...         ...         ...    ...  \n",
       "16734  Jemerson de Jesus Nascimento        34.0    Zagueiro   45+2  \n",
       "16735                   Lucas Ramos        37.0  Meio-campo     80  \n",
       "16736     José Manuel Alberto López        18.0  Meio-campo     88  \n",
       "16737                Eduard Atuesta        20.0  Meio-campo     23  \n",
       "16738           Magno Jose da Silva         2.0    Zagueiro     40  \n",
       "\n",
       "[16739 rows x 8 columns]"
      ]
     },
     "execution_count": 37,
     "metadata": {},
     "output_type": "execute_result"
    }
   ],
   "source": [
    "# Cria a conexão com DuckDB\n",
    "conexao = duckdb.connect()\n",
    "\n",
    "# Carrega os dados do CSV para a tabela\n",
    "conexao.execute(\"CREATE TABLE campeonato_brasileiro_cartoes AS (SELECT * FROM './Campeonato Brasileiro de futebol/campeonato-brasileiro-cartoes.csv')\")\n",
    "\n",
    "# Executa consulta SQL na tabela\n",
    "resultado = conexao.execute(\"SELECT * FROM campeonato_brasileiro_cartoes\")\n",
    "\n",
    "# Transforma o resultado em um DataFrame\n",
    "resultado.fetch_df()"
   ]
  },
  {
   "cell_type": "code",
   "execution_count": 42,
   "metadata": {},
   "outputs": [],
   "source": [
    "# Executa consulta SQL na tabela\n",
    "resultado = conexao.execute(\"SELECT * FROM campeonato_brasileiro_cartoes\")\n",
    "\n",
    "# Transforma o resultado em um DataFrame\n",
    "dados = resultado.fetch_df()\n",
    "\n",
    "# Salva o dataframe como um novo csv\n",
    "dados.to_csv(\"novo_campoenado_brasileiro_cartao.csv\")"
   ]
  }
 ],
 "metadata": {
  "kernelspec": {
   "display_name": "data_knowlege-hW8H2qLw",
   "language": "python",
   "name": "python3"
  },
  "language_info": {
   "codemirror_mode": {
    "name": "ipython",
    "version": 3
   },
   "file_extension": ".py",
   "mimetype": "text/x-python",
   "name": "python",
   "nbconvert_exporter": "python",
   "pygments_lexer": "ipython3",
   "version": "3.11.6"
  }
 },
 "nbformat": 4,
 "nbformat_minor": 2
}
