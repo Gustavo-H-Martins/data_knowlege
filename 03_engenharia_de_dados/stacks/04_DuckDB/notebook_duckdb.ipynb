{
 "cells": [
  {
   "cell_type": "markdown",
   "metadata": {},
   "source": [
    "<img src=\"https://duckdb.org/images/DuckDB-Footer.svg\" alt=\"DuckDB\" width=\"200\"/>\n",
    "\n",
    "# <h1 align='center'>[DuckDB](https://duckdb.org/)</h1>"
   ]
  },
  {
   "cell_type": "markdown",
   "metadata": {},
   "source": [
    "### Instalação"
   ]
  },
  {
   "cell_type": "code",
   "execution_count": 1,
   "metadata": {},
   "outputs": [
    {
     "name": "stdout",
     "output_type": "stream",
     "text": [
      "Collecting duckdb==0.9.2"
     ]
    },
    {
     "name": "stderr",
     "output_type": "stream",
     "text": [
      "\n",
      "[notice] A new release of pip is available: 23.1.1 -> 23.3.1\n",
      "[notice] To update, run: python.exe -m pip install --upgrade pip\n"
     ]
    },
    {
     "name": "stdout",
     "output_type": "stream",
     "text": [
      "\n",
      "  Downloading duckdb-0.9.2-cp311-cp311-win_amd64.whl (10.3 MB)\n",
      "                                              0.0/10.3 MB ? eta -:--:--\n",
      "     -                                        0.4/10.3 MB 7.6 MB/s eta 0:00:02\n",
      "     -----                                    1.3/10.3 MB 13.8 MB/s eta 0:00:01\n",
      "     ----------                               2.7/10.3 MB 19.5 MB/s eta 0:00:01\n",
      "     ----------------                         4.3/10.3 MB 23.2 MB/s eta 0:00:01\n",
      "     -----------------------                  6.1/10.3 MB 26.0 MB/s eta 0:00:01\n",
      "     ------------------------------           7.8/10.3 MB 26.2 MB/s eta 0:00:01\n",
      "     -----------------------------------      9.2/10.3 MB 27.9 MB/s eta 0:00:01\n",
      "     --------------------------------------  10.3/10.3 MB 28.5 MB/s eta 0:00:01\n",
      "     --------------------------------------  10.3/10.3 MB 28.5 MB/s eta 0:00:01\n",
      "     --------------------------------------  10.3/10.3 MB 28.5 MB/s eta 0:00:01\n",
      "     --------------------------------------  10.3/10.3 MB 28.5 MB/s eta 0:00:01\n",
      "     --------------------------------------  10.3/10.3 MB 28.5 MB/s eta 0:00:01\n",
      "     --------------------------------------  10.3/10.3 MB 28.5 MB/s eta 0:00:01\n",
      "     --------------------------------------  10.3/10.3 MB 28.5 MB/s eta 0:00:01\n",
      "     --------------------------------------- 10.3/10.3 MB 14.5 MB/s eta 0:00:00\n",
      "Installing collected packages: duckdb\n",
      "Successfully installed duckdb-0.9.2\n"
     ]
    }
   ],
   "source": [
    "### Instalação\n",
    "!pip install duckdb==0.9.2"
   ]
  },
  {
   "cell_type": "markdown",
   "metadata": {},
   "source": [
    "### Importando bibliotecas úteis"
   ]
  },
  {
   "cell_type": "code",
   "execution_count": null,
   "metadata": {},
   "outputs": [],
   "source": [
    "### Libs\n",
    "import duckdb"
   ]
  }
 ],
 "metadata": {
  "kernelspec": {
   "display_name": "data_knowlege-hW8H2qLw",
   "language": "python",
   "name": "python3"
  },
  "language_info": {
   "codemirror_mode": {
    "name": "ipython",
    "version": 3
   },
   "file_extension": ".py",
   "mimetype": "text/x-python",
   "name": "python",
   "nbconvert_exporter": "python",
   "pygments_lexer": "ipython3",
   "version": "3.11.6"
  }
 },
 "nbformat": 4,
 "nbformat_minor": 2
}
